{
  "nbformat": 4,
  "nbformat_minor": 0,
  "metadata": {
    "colab": {
      "name": "NLPHW1.ipynb",
      "provenance": [],
      "collapsed_sections": [],
      "authorship_tag": "ABX9TyPIUliT7FVa5/dBd8m+hCbs",
      "include_colab_link": true
    },
    "kernelspec": {
      "name": "python3",
      "display_name": "Python 3"
    },
    "language_info": {
      "name": "python"
    }
  },
  "cells": [
    {
      "cell_type": "markdown",
      "metadata": {
        "id": "view-in-github",
        "colab_type": "text"
      },
      "source": [
        "<a href=\"https://colab.research.google.com/github/AliKarimiENT/NLP_HW1/blob/main/NLPHW1.ipynb\" target=\"_parent\"><img src=\"https://colab.research.google.com/assets/colab-badge.svg\" alt=\"Open In Colab\"/></a>"
      ]
    },
    {
      "cell_type": "markdown",
      "source": [
        "Reading txt file and getting verses\n",
        "\n",
        "Here we need to do some processes"
      ],
      "metadata": {
        "id": "58KGNeYk_1zM"
      }
    },
    {
      "cell_type": "code",
      "source": [
        "# with this function we check that it contains number in the text or not\n",
        "def hasNumbers(inputString) :\n",
        "  for character in inputString :\n",
        "    if character.isdigit() :\n",
        "      return True\n",
        "  return False\n",
        "\n",
        "def hasDash(inputString) :\n",
        "  for character in inputString :\n",
        "    if character == '-' :\n",
        "      return True\n",
        "  return False \n",
        "\n",
        "\n",
        "with open('/content/ShamsDaftar6.doc_filename=ShamsDaftar6.txt') as f:\n",
        "  dataSet = f.readlines()\n",
        "\n",
        "verses = []\n",
        "for line in dataSet :\n",
        "  if line != ' ' and line != '\\n' and hasNumbers(line) == False  and hasDash(line)==False:\n",
        "    if dataSet.index(line) != 0 :\n",
        "      verses.append(line.replace('\\t',' '))\n",
        "\n",
        "\n",
        "# for i in range(20):\n",
        "#   print(verses[i])\n"
      ],
      "metadata": {
        "id": "Th7fYgmq-xCl"
      },
      "execution_count": 13,
      "outputs": []
    },
    {
      "cell_type": "markdown",
      "source": [
        "Get list of stop words"
      ],
      "metadata": {
        "id": "hxwj0VLuczGB"
      }
    },
    {
      "cell_type": "code",
      "source": [
        "with open('/content/stopwords.txt') as f:\n",
        "  stopWords = f.readlines()"
      ],
      "metadata": {
        "id": "jMHFSQptcwpu"
      },
      "execution_count": null,
      "outputs": []
    },
    {
      "cell_type": "markdown",
      "source": [
        "Remove stop words from verses"
      ],
      "metadata": {
        "id": "KBxPzT78XTC9"
      }
    },
    {
      "cell_type": "code",
      "source": [
        "#list of whole words of concept\n",
        "words = []\n",
        "\n",
        "for verse in verses :\n",
        "  for word in verse.split() :\n",
        "   if word in stopWords :\n",
        "     words.append(word)\n",
        "\n",
        "print(words)"
      ],
      "metadata": {
        "colab": {
          "base_uri": "https://localhost:8080/"
        },
        "id": "aqCmQpuyXOvF",
        "outputId": "291d4ffa-6f24-4abc-c660-b7497de2767f"
      },
      "execution_count": 23,
      "outputs": [
        {
          "output_type": "stream",
          "name": "stdout",
          "text": [
            "[]\n"
          ]
        }
      ]
    }
  ]
}