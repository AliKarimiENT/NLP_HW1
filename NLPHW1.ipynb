{
  "nbformat": 4,
  "nbformat_minor": 0,
  "metadata": {
    "colab": {
      "name": "NLPHW1.ipynb",
      "provenance": [],
      "authorship_tag": "ABX9TyPjxFNvg3vXs44Enj33e6ae",
      "include_colab_link": true
    },
    "kernelspec": {
      "name": "python3",
      "display_name": "Python 3"
    },
    "language_info": {
      "name": "python"
    }
  },
  "cells": [
    {
      "cell_type": "markdown",
      "metadata": {
        "id": "view-in-github",
        "colab_type": "text"
      },
      "source": [
        "<a href=\"https://colab.research.google.com/github/AliKarimiENT/NLP_HW1/blob/main/NLPHW1.ipynb\" target=\"_parent\"><img src=\"https://colab.research.google.com/assets/colab-badge.svg\" alt=\"Open In Colab\"/></a>"
      ]
    },
    {
      "cell_type": "markdown",
      "source": [
        "Reading txt file"
      ],
      "metadata": {
        "id": "58KGNeYk_1zM"
      }
    },
    {
      "cell_type": "code",
      "source": [
        "with open('/content/ShamsDaftar6.doc_filename=ShamsDaftar6.txt') as f:\n",
        "  lines = f.readlines()\n",
        "print(lines[0])\n",
        "print(lines[1])\n",
        "print(lines[2])\n",
        "print(lines[5])"
      ],
      "metadata": {
        "colab": {
          "base_uri": "https://localhost:8080/"
        },
        "id": "Th7fYgmq-xCl",
        "outputId": "6fe3dcc2-8fc4-40f6-b691-0a112a155334"
      },
      "execution_count": 7,
      "outputs": [
        {
          "output_type": "stream",
          "name": "stdout",
          "text": [
            "﻿دیوان شمس تبریزی (غزلیات)\n",
            "\n",
            "2501 - 3000\n",
            "\n",
            "--------------------------------------------------------\n",
            "\n",
            "گرم سیم و درم بودی مرا مونس چه کم بودی\tوگر یارم فقیرستی ز زر فارغ چه غم بودی\n",
            "\n"
          ]
        }
      ]
    }
  ]
}