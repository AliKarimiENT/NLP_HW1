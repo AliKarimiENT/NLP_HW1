{
  "nbformat": 4,
  "nbformat_minor": 0,
  "metadata": {
    "colab": {
      "name": "NLPHW1.ipynb",
      "provenance": [],
      "collapsed_sections": [],
      "authorship_tag": "ABX9TyNMGhnX2fW/1ro4ywnYpOIo",
      "include_colab_link": true
    },
    "kernelspec": {
      "name": "python3",
      "display_name": "Python 3"
    },
    "language_info": {
      "name": "python"
    }
  },
  "cells": [
    {
      "cell_type": "markdown",
      "metadata": {
        "id": "view-in-github",
        "colab_type": "text"
      },
      "source": [
        "<a href=\"https://colab.research.google.com/github/AliKarimiENT/NLP_HW1/blob/main/NLPHW1.ipynb\" target=\"_parent\"><img src=\"https://colab.research.google.com/assets/colab-badge.svg\" alt=\"Open In Colab\"/></a>"
      ]
    },
    {
      "cell_type": "markdown",
      "source": [
        "Reading txt file and getting verses"
      ],
      "metadata": {
        "id": "58KGNeYk_1zM"
      }
    },
    {
      "cell_type": "code",
      "source": [
        "# with this function we check that it contains number in the text or not\n",
        "def hasNumbers(inputString) :\n",
        "  for character in inputString :\n",
        "    if character.isdigit() :\n",
        "      return True\n",
        "  return False\n",
        "\n",
        "def hasDash(inputString) :\n",
        "  for character in inputString :\n",
        "    if character == '-' :\n",
        "      return True\n",
        "  return False \n",
        "\n",
        "\n",
        "with open('/content/ShamsDaftar6.doc_filename=ShamsDaftar6.txt') as f:\n",
        "  lines = f.readlines()\n",
        "\n",
        "verses = []\n",
        "for line in lines :\n",
        "  if line != ' ' and line != '\\n' and hasNumbers(line) == False  and hasDash(line)==False:\n",
        "    if lines.index(line) != 0 :\n",
        "      verses.append(line.replace('\\t',' '))\n",
        "\n",
        "for i in range(20) :\n",
        "  print(verses[i])"
      ],
      "metadata": {
        "colab": {
          "base_uri": "https://localhost:8080/"
        },
        "id": "Th7fYgmq-xCl",
        "outputId": "13c8f417-a573-4e02-f603-149075c0dee9"
      },
      "execution_count": 9,
      "outputs": [
        {
          "output_type": "stream",
          "name": "stdout",
          "text": [
            "گرم سیم و درم بودی مرا مونس چه کم بودی وگر یارم فقیرستی ز زر فارغ چه غم بودی\n",
            "\n",
            "خدایا حرمت مردان ز دنیا فارغش گردان از آن گر فارغستی او ز پیش من چه کم بودی\n",
            "\n",
            "نگارا گر مرا خواهی وگر همدرد و همراهی مکن آه و مخور حسرت که بختم محتشم بودی\n",
            "\n",
            "بتا زیبا و نیکویی رها کن این گدارویی اگر چشم تو سیرستی فلک ما را حشم بودی\n",
            "\n",
            "ز طمع آدمی باشد که خویش از وی چو بیگانه است وگر او بی طمع بودی همه کس خال و عم بودی\n",
            "\n",
            "بیا چون ما شو ای مه رو نه نعمت جو نه دولت جو گر ابلیس این چنین بودی شه و صاحب علم بودی\n",
            "\n",
            "از ابلیسی جدا بودی سقط او را ثنا بودی جفا او را وفا بودی سقم او را کرم بودی\n",
            "\n",
            "زهی اقبال درویشی زهی اسرار بی خویشی اگر دانستیی پیشت همه هستی عدم بودی\n",
            "\n",
            "جهانی هیچ و ما هیچان خیال و خواب ما پیچان وگر خفته بدانستی که در خوابم چه غم بودی\n",
            "\n",
            "خیالی بیند این خفته در اندیشه فرورفته وگر زین خواب آشفته بجستی در نعم بودی\n",
            "\n",
            "یکی زندان غم دیده یکی باغ ارم دیده وگر بیدار گشتی او نه زندان نی ارم بودی\n",
            "\n",
            "امیر دل همی گوید تو را گر تو دلی داری که عاشق باش تا گیری ز نان و جامه بیزاری\n",
            "\n",
            "تو را گر قحط نان باشد کند عشق تو خبازی وگر گم گشت دستارت کند عشق تو دستاری\n",
            "\n",
            "ببین بی نان و بی جامه خوش و طیار و خودکامه ملایک را و جان ها را بر این ایوان زنگاری\n",
            "\n",
            "چو زین لوت و از این فرنی شود آزاد و مستغنی پی ملکی دگر افتد تو را اندیشه و زاری\n",
            "\n",
            "وگر دربند نان مانی بیاید یار روحانی تو را گوید که یاری کن نیاری کردنش یاری\n",
            "\n",
            "عصای عشق از خارا کند چشمه روان ما را تو زین جوع البقر یارا مکن زین بیش بقاری\n",
            "\n",
            "فروریزد سخن در دل مرا هر یک کند لابه که اول من برون آیم خمش مانم ز بسیاری\n",
            "\n",
            "الا یا صاحب الدار رایت الحسن فی جاری فاوقد بیننا نارا یطفی نوره ناری\n",
            "\n",
            "چو من تازی همی گویم به گوشم پارسی گوید مگر بدخدمتی کردم که رو این سو نمی آری\n",
            "\n"
          ]
        }
      ]
    }
  ]
}